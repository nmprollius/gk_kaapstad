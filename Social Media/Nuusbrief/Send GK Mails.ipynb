{
 "cells": [
  {
   "cell_type": "code",
   "execution_count": 1,
   "metadata": {},
   "outputs": [],
   "source": [
    "import os\n",
    "import datetime as dt\n",
    "import pandas as pd\n",
    "today= dt.datetime.strftime(dt.date.today(),'%d %B %Y')\n",
    "year=dt.date.today().year"
   ]
  },
  {
   "attachments": {},
   "cell_type": "markdown",
   "metadata": {},
   "source": [
    "### List all available reports with default and cluster links"
   ]
  },
  {
   "attachments": {},
   "cell_type": "markdown",
   "metadata": {},
   "source": [
    "### Generate email body"
   ]
  },
  {
   "cell_type": "code",
   "execution_count": 2,
   "metadata": {},
   "outputs": [],
   "source": [
    "# Get Styles\n",
    "\n",
    "with open('styles.css','r',encoding='utf8') as r:\n",
    "    styles=r.read()"
   ]
  },
  {
   "cell_type": "code",
   "execution_count": 3,
   "metadata": {},
   "outputs": [
    {
     "data": {
      "text/plain": [
       "'<!DOCTYPE html>\\n<html lang=\"en\">\\n<head>\\n  <meta charset=\"UTF-8\">\\n  <meta http-equiv=\"X-UA-Compatible\" content=\"IE=edge\">\\n  <meta name=\"viewport\" content=\"width=device-width, initial-scale=1.0\">\\n  <link rel=\"stylesheet\" type=\"text/css\" href=\"styles.css\" />\\n  <title>\\n    GK Kaapstad\\n  </title>\\n</head>\\n<body>\\n  <table width=\"100%\">\\n    <td width=\"15%\" ></td>  \\n    <td class=\"content_body\">\\n      <!-- Header -->\\n      <table width=\"100%\">\\n        <tr>\\n          <td width=\"40%\" class=\"header\">\\n            <h1>GK Kaapstad</h1>\\n            <p>verander datum</p>\\n          </td>\\n          \\n          <td width=\"40%\" style=\"text-align: center;\" >\\n            <img width=\"200\" src=\"/Other images/Logo.png\" alt=\"\">\\n          </td>\\n          <td width=\"5%\">\\n            <a href=\"www.facebook.com/gkkaapstad\" ><img src=\"/Other images/fb.png\" alt=\"\" width=\"30\"></a> <br> \\n            <a href=\"https://www.youtube.com/channel/UCjU3Wg3e0sFQYg26kruSBgQ\"><img src=\"/Other images/yt.png\" alt=\"\" width=\"30\"></a> <br> \\n            <a href=\"www.gkkaapstad.co.za\"><img src=\"/Other images/www.png\" alt=\"\" width=\"30\"> </a>\\n\\n          </td>\\n        </tr>\\n      </table>\\n\\n      <table>\\n        <tr>\\n          <td class=\"section\">\\n            <!-- Section 1 -->\\n                <p>Liewe gemeente,</p>\\n            \\n                <p>Ons waardeer die bydrae wat elkeen reeds maak maak om ons eredienste so glad as moontlik te laat verloop.</p>\\n            \\n                <p>Ons het tog nog hulp nodig, en wil graag \\'n beroep doen op diegene in Kaapstad om \\'n handjie te kom bysit met twee spesifieke take wat tydens die erediens geskied.</p>\\n                \\n                <table width=\"100%\"><tr><td class=\"divider\"></td></tr></table>\\n                <ul>\\n                  <h3>Span vir klanktoerusting opstel voor die diens:</h3>\\n                  <p>Ons benodig \\'n span van mense om beurte te vat om 9h00 op \\'n Sondagoggend by die kerk te wees om die <b>klanktoerusting aan te skakel en die projektors op te stel.</b> Moenie bekommerd wees as jy nie \\'n tegnologie-wonder is nie – ons bied deeglike opleiding om jou vinnig op die hoogte te kry.</p>\\n              \\n                  <h3>Span vir \\'streaming\\' en knoppies druk tydens die diens:</h3>\\n                  <p>As sosiale media en aanlyn platforms jou speelgrond is, dan roep ons <b>\\'streaming en Knoppie-druk\\'</b> Span jou naam. Kry praktiese ervaring met YouTube- en Facebook-streaming, en speel selfs \\'n rol om ons dienste tydens die preek te verbeter. As jy passievol is oor digitale media of net nuuskierig is om dit te verken, kan ons jou touwys maak. </p>\\n                </ul>\\n                \\n                <table width=\"100%\"><tr><td class=\"divider\"></td></tr></table>\\n\\n                <p>\\n                  Die beste deel? Ons gooi jou nie in die diep kant in nie. Ons bied omvattende opleidingsessies aan om seker te maak jy voel selfversekerd en gemaklik met jou rol.\\n                </p>\\n            \\n                <p>Ons besef dat mense besige skedules het, maar as jy enigsins kan, sal jou hulp ons gemeente se eredienste aansienlik verryk. Indien jy belangstel, kontak vir Nico Prollius (083 705 6635)of kom gesels op \\'n Sondag na die diens met hom</p>\\n            \\n                <p>Laat ons saamwerk om ons eredienste \\'n besonderse ervaring vir almal te maak.</p>\\n                          \\n                <p style=\"font-weight: bold; color: #808080;\" >\\n                  Hartlike groete,<br>\\n                  Nico\\n                </p>\\n\\n        </tr>\\n      </table>\\n\\n\\n\\n    </td>\\n    <td width=\"15%\"></td>\\n  </table>\\n</body>\\n</html>'"
      ]
     },
     "execution_count": 3,
     "metadata": {},
     "output_type": "execute_result"
    }
   ],
   "source": [
    "# Get HTML\n",
    "# with open('GK Nuusbrief.html','r',encoding='utf8') as r:\n",
    "# with open('Versoek.html','r',encoding='utf8') as r:\n",
    "with open('Versoek 3.html','r',encoding='utf8') as r:\n",
    "    body=r.read()\n",
    "body"
   ]
  },
  {
   "cell_type": "code",
   "execution_count": 4,
   "metadata": {},
   "outputs": [],
   "source": [
    "# Create inline text\n",
    "\n",
    "head=body.split('<link rel=\"stylesheet\" type=\"text/css\" href=\"styles.css\" />')[0]\n",
    "body=body.split('<link rel=\"stylesheet\" type=\"text/css\" href=\"styles.css\" />')[1]\n",
    "\n",
    "inline_mail=''.join([head,'<style>',styles,'</style>',body])\n",
    "\n",
    "# update image folders\n",
    "replace_with=os.getenv(\"USERPROFIlE\")+'\\\\Desktop\\\\GK Kerk\\\\Other images\\\\'\n",
    "inline_mail=inline_mail.replace(f'/Other images/',replace_with)\n",
    "\n",
    "# update date\n",
    "\n",
    "inline_mail=inline_mail.replace('verander datum',today)"
   ]
  },
  {
   "attachments": {},
   "cell_type": "markdown",
   "metadata": {},
   "source": [
    "### Send email"
   ]
  },
  {
   "cell_type": "code",
   "execution_count": 5,
   "metadata": {},
   "outputs": [],
   "source": [
    "import win32com.client as win32\n",
    "def send_mail(to,body,subject,attachment=None,send=False):\n",
    "  # create an instance of the Outlook application\n",
    "  outlook = win32.Dispatch('outlook.application')\n",
    "\n",
    "  # create an email object\n",
    "  mail = outlook.CreateItem(0)\n",
    "\n",
    "  # set the properties of the email\n",
    "  mail.To = to\n",
    "  mail.Subject = subject\n",
    "  mail.HTMLBody = body\n",
    "\n",
    "  # attach a file to the email (optional)\n",
    "  # attachment = \"C:/path/to/my/file.txt\"\n",
    "  if attachment is not None:\n",
    "    mail.Attachments.Add(attachment)\n",
    "\n",
    "  # send the email\n",
    "  if send:\n",
    "    mail.Send()\n",
    "  else:\n",
    "    mail.Display()"
   ]
  },
  {
   "cell_type": "code",
   "execution_count": 6,
   "metadata": {},
   "outputs": [],
   "source": [
    "send_mail(\n",
    "    # to='EMEA Analytics Team',\n",
    "    to='',\n",
    "    body=inline_mail,\n",
    "    send=False,\n",
    "    subject=f'GK Kaapsdad Nuusbrief | {today}'\n",
    "    # attachment=attachment\n",
    "    )"
   ]
  },
  {
   "cell_type": "code",
   "execution_count": 7,
   "metadata": {},
   "outputs": [],
   "source": [
    "# with open('GK.html','w',encoding='utf8') as w:\n",
    "#     w.write(''.join([head,'<style>',styles,'</style>',body]))\n"
   ]
  }
 ],
 "metadata": {
  "kernelspec": {
   "display_name": "Python 3",
   "language": "python",
   "name": "python3"
  },
  "language_info": {
   "codemirror_mode": {
    "name": "ipython",
    "version": 3
   },
   "file_extension": ".py",
   "mimetype": "text/x-python",
   "name": "python",
   "nbconvert_exporter": "python",
   "pygments_lexer": "ipython3",
   "version": "3.10.8"
  },
  "orig_nbformat": 4
 },
 "nbformat": 4,
 "nbformat_minor": 2
}
